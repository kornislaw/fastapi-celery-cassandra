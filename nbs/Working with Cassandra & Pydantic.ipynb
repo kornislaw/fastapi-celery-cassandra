{
 "cells": [
  {
   "cell_type": "code",
   "execution_count": 1,
   "id": "17bac316",
   "metadata": {},
   "outputs": [
    {
     "name": "stdout",
     "output_type": "stream",
     "text": [
      "/Users/dominik/Documents/dev/workspaces/tutorials/fastapi-celery-astradb/nbs\r\n"
     ]
    }
   ],
   "source": [
    "!pwd"
   ]
  },
  {
   "cell_type": "code",
   "execution_count": 2,
   "id": "34425982",
   "metadata": {},
   "outputs": [
    {
     "name": "stdout",
     "output_type": "stream",
     "text": [
      "/Users/dominik/Documents/dev/workspaces/tutorials/fastapi-celery-astradb\n"
     ]
    }
   ],
   "source": [
    "cd .."
   ]
  },
  {
   "cell_type": "code",
   "execution_count": 9,
   "id": "836eb3e4",
   "metadata": {},
   "outputs": [],
   "source": [
    "from app import crud, db, models, schema\n",
    "from pprint import pprint as pp\n",
    "import uuid"
   ]
  },
  {
   "cell_type": "code",
   "execution_count": 4,
   "id": "0e8a4a69",
   "metadata": {},
   "outputs": [
    {
     "data": {
      "text/plain": [
       "{'asin': 'B07W2Z2ZS3', 'title': 'Garmin Fcośtam innego'}"
      ]
     },
     "execution_count": 4,
     "metadata": {},
     "output_type": "execute_result"
    }
   ],
   "source": [
    "data = models.data\n",
    "data"
   ]
  },
  {
   "cell_type": "code",
   "execution_count": 5,
   "id": "970f6736",
   "metadata": {},
   "outputs": [],
   "source": [
    "from pydantic import BaseModel"
   ]
  },
  {
   "cell_type": "code",
   "execution_count": 11,
   "id": "bb5227fb",
   "metadata": {},
   "outputs": [],
   "source": [
    "class PydanticShema(BaseModel):\n",
    "    asin: str\n",
    "    title: str"
   ]
  },
  {
   "cell_type": "code",
   "execution_count": 12,
   "id": "0b10aa36",
   "metadata": {},
   "outputs": [],
   "source": [
    "product = PydanticBaseModel(**data)"
   ]
  },
  {
   "cell_type": "code",
   "execution_count": 13,
   "id": "088494a8",
   "metadata": {},
   "outputs": [
    {
     "data": {
      "text/plain": [
       "{'asin': 'B07W2Z2ZS3', 'title': 'Garmin Fcośtam innego'}"
      ]
     },
     "execution_count": 13,
     "metadata": {},
     "output_type": "execute_result"
    }
   ],
   "source": [
    "product.dict()"
   ]
  },
  {
   "cell_type": "code",
   "execution_count": 10,
   "id": "8dc74569",
   "metadata": {},
   "outputs": [],
   "source": [
    "from pydantic import ValidationError\n",
    "\n",
    "data['uuid'] = uuid.uuid1()\n",
    "try:\n",
    "    schema.ProductScrapeEventSchema(**data)\n",
    "except ValidationError as e:\n",
    "    print(e.json())"
   ]
  },
  {
   "cell_type": "code",
   "execution_count": null,
   "id": "6981e936",
   "metadata": {},
   "outputs": [],
   "source": []
  }
 ],
 "metadata": {
  "kernelspec": {
   "display_name": "Python 3 (ipykernel)",
   "language": "python",
   "name": "python3"
  },
  "language_info": {
   "codemirror_mode": {
    "name": "ipython",
    "version": 3
   },
   "file_extension": ".py",
   "mimetype": "text/x-python",
   "name": "python",
   "nbconvert_exporter": "python",
   "pygments_lexer": "ipython3",
   "version": "3.10.4"
  }
 },
 "nbformat": 4,
 "nbformat_minor": 5
}
