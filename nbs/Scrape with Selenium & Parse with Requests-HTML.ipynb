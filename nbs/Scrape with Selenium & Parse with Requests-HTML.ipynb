{
 "cells": [
  {
   "cell_type": "code",
   "execution_count": 1,
   "id": "682e0f82",
   "metadata": {},
   "outputs": [
    {
     "name": "stdout",
     "output_type": "stream",
     "text": [
      "C:\\Users\\pieka\\dev\\workspaces\\workshops\\fastapi-celery-cassandra\n"
     ]
    }
   ],
   "source": [
    "cd .."
   ]
  },
  {
   "cell_type": "code",
   "execution_count": 56,
   "id": "499a6c2b",
   "metadata": {},
   "outputs": [],
   "source": [
    "from app import scraper\n",
    "from requests_html import HTML\n",
    "from slugify import slugify\n",
    "from pprint import pprint"
   ]
  },
  {
   "cell_type": "code",
   "execution_count": 115,
   "id": "03b1f5d2",
   "metadata": {},
   "outputs": [],
   "source": [
    "url = \"https://www.amazon.com/Nintendo-Switch-OLED-Model-White-Joy/dp/B098RKWHHZ/ref=lp_16225016011_1_2\""
   ]
  },
  {
   "cell_type": "code",
   "execution_count": 116,
   "id": "280281ae",
   "metadata": {},
   "outputs": [],
   "source": [
    "s = scraper.Scraper(url=url, endless_scroll=True)"
   ]
  },
  {
   "cell_type": "code",
   "execution_count": 117,
   "id": "4b456823",
   "metadata": {},
   "outputs": [],
   "source": [
    "html_str = s.get()"
   ]
  },
  {
   "cell_type": "code",
   "execution_count": 118,
   "id": "1cae2161",
   "metadata": {},
   "outputs": [],
   "source": [
    "html_obj = HTML(html=html_str)"
   ]
  },
  {
   "cell_type": "code",
   "execution_count": 119,
   "id": "2e22fe4a",
   "metadata": {
    "scrolled": true
   },
   "outputs": [
    {
     "ename": "AttributeError",
     "evalue": "'NoneType' object has no attribute 'text'",
     "output_type": "error",
     "traceback": [
      "\u001b[1;31m---------------------------------------------------------------------------\u001b[0m",
      "\u001b[1;31mAttributeError\u001b[0m                            Traceback (most recent call last)",
      "Input \u001b[1;32mIn [119]\u001b[0m, in \u001b[0;36m<cell line: 1>\u001b[1;34m()\u001b[0m\n\u001b[1;32m----> 1\u001b[0m \u001b[43mhtml_obj\u001b[49m\u001b[38;5;241;43m.\u001b[39;49m\u001b[43mfind\u001b[49m\u001b[43m(\u001b[49m\u001b[38;5;124;43m'\u001b[39;49m\u001b[38;5;124;43m#corePrice_feature_div > div > span > span.a-offscreen\u001b[39;49m\u001b[38;5;124;43m'\u001b[39;49m\u001b[43m,\u001b[49m\u001b[43m \u001b[49m\u001b[43mfirst\u001b[49m\u001b[38;5;241;43m=\u001b[39;49m\u001b[38;5;28;43;01mTrue\u001b[39;49;00m\u001b[43m)\u001b[49m\u001b[38;5;241;43m.\u001b[39;49m\u001b[43mtext\u001b[49m\n",
      "\u001b[1;31mAttributeError\u001b[0m: 'NoneType' object has no attribute 'text'"
     ]
    }
   ],
   "source": [
    "html_obj.find('#corePrice_feature_div > div > span > span.a-offscreen', first=True).text"
   ]
  },
  {
   "cell_type": "code",
   "execution_count": 120,
   "id": "e11c0a2b",
   "metadata": {},
   "outputs": [
    {
     "data": {
      "text/plain": [
       "'Nintendo Switch – OLED Model w/ White Joy-Con'"
      ]
     },
     "execution_count": 120,
     "metadata": {},
     "output_type": "execute_result"
    }
   ],
   "source": [
    "html_obj.find('#title', first=True).text"
   ]
  },
  {
   "cell_type": "code",
   "execution_count": 121,
   "id": "cb9ff8ed",
   "metadata": {},
   "outputs": [
    {
     "data": {
      "text/plain": [
       "'Nintendo Switch – OLED Model w/ White Joy-Con'"
      ]
     },
     "execution_count": 121,
     "metadata": {},
     "output_type": "execute_result"
    }
   ],
   "source": [
    "html_obj.find('#productTitle', first=True).text"
   ]
  },
  {
   "cell_type": "code",
   "execution_count": 132,
   "id": "52a1b9ed",
   "metadata": {},
   "outputs": [
    {
     "name": "stdout",
     "output_type": "stream",
     "text": [
      "{'asin': 'B098RKWHHZ',\n",
      " 'batteries': '3 Lithium ion batteries required. (included)',\n",
      " 'best-sellers-rank': '#9 in Video Games (See Top 100 in Video Games)  #1 in '\n",
      "                      'Nintendo Switch Consoles',\n",
      " 'binding': 'Video Game',\n",
      " 'customer-reviews': '/* \\n'\n",
      "                     '    * Fix for UDP-1061. Average customer reviews has a '\n",
      "                     'small extra line on hover \\n'\n",
      "                     '    * '\n",
      "                     'https://omni-grok.amazon.com/xref/src/appgroup/websiteTemplates/retail/SoftlinesDetailPageAssets/udp-intl-lock/src/legacy.css?indexName=WebsiteTemplates#40\\n'\n",
      "                     '    */\\n'\n",
      "                     '    .noUnderline a:hover { \\n'\n",
      "                     '        text-decoration: none; \\n'\n",
      "                     '    }\\n'\n",
      "                     '\\n'\n",
      "                     '\\n'\n",
      "                     ' \\n'\n",
      "                     '  4.9 out of 5 stars    \\n'\n",
      "                     '    10,521 ratings   \\n'\n",
      "                     \"                    P.when('A', \"\n",
      "                     \"'ready').execute(function(A) {\\n\"\n",
      "                     '                        '\n",
      "                     \"A.declarative('acrLink-click-metrics', 'click', { \"\n",
      "                     '\"allowLinkDefault\" : true }, function(event){\\n'\n",
      "                     '                            if(window.ue) {\\n'\n",
      "                     '                                '\n",
      "                     'ue.count(\"acrLinkClickCount\", '\n",
      "                     '(ue.count(\"acrLinkClickCount\") || 0) + 1);\\n'\n",
      "                     '                            }\\n'\n",
      "                     '                        });\\n'\n",
      "                     '                    });\\n'\n",
      "                     '                \\n'\n",
      "                     '\\n'\n",
      "                     \"            P.when('A', 'cf').execute(function(A) {\\n\"\n",
      "                     '                '\n",
      "                     \"A.declarative('acrStarsLink-click-metrics', 'click', { \"\n",
      "                     '\"allowLinkDefault\" : true },  function(event){\\n'\n",
      "                     '                    if(window.ue) {\\n'\n",
      "                     '                        '\n",
      "                     'ue.count(\"acrStarsLinkWithPopoverClickCount\", '\n",
      "                     '(ue.count(\"acrStarsLinkWithPopoverClickCount\") || 0) + '\n",
      "                     '1);\\n'\n",
      "                     '                    }\\n'\n",
      "                     '                });\\n'\n",
      "                     '            });\\n'\n",
      "                     '        \\n'\n",
      "                     '\\n'\n",
      "                     ' 4.9 out of 5 stars',\n",
      " 'date-first-available': 'July 1, 2021',\n",
      " 'department': 'Electronics',\n",
      " 'item-model-number': 'HEGSKAAAA',\n",
      " 'item-weight': '3 pounds',\n",
      " 'manufacturer': 'Nintendo',\n",
      " 'pricing': 'The strikethrough price is the List Price. Savings represents a '\n",
      "            'discount off the List Price.',\n",
      " 'product-dimensions': '2.9 x 6.5 x 7.9 inches; 3 Pounds',\n",
      " 'release-date': 'October 8, 2021'}\n"
     ]
    }
   ],
   "source": [
    "def extract_dataset(tables):\n",
    "    dataset = {}\n",
    "    for table in html_obj.find('table'):\n",
    "        for tbody in table.element.getchildren():\n",
    "            for tr in tbody.getchildren():\n",
    "                if len(tr.getchildren()) != 2:\n",
    "                    continue\n",
    "                row = tr.getchildren()\n",
    "                dataset[slugify(row[0].text_content())] = row[1].text_content().strip()\n",
    "    return dataset\n",
    "\n",
    "dataset = extract_dataset(tables)\n",
    "                \n",
    "pprint(dataset)    "
   ]
  },
  {
   "cell_type": "code",
   "execution_count": 127,
   "id": "4066e7ef",
   "metadata": {},
   "outputs": [
    {
     "data": {
      "text/plain": [
       "'B098RKWHHZ'"
      ]
     },
     "execution_count": 127,
     "metadata": {},
     "output_type": "execute_result"
    }
   ],
   "source": [
    "dataset['asin']"
   ]
  },
  {
   "cell_type": "markdown",
   "id": "587fb27a",
   "metadata": {},
   "source": [
    "# For Polish version of Amazon:"
   ]
  },
  {
   "cell_type": "code",
   "execution_count": 133,
   "id": "1b792ba9",
   "metadata": {},
   "outputs": [],
   "source": [
    "url = \"https://www.amazon.pl/NuPro-Antybakteryjna-ochronna-Paperwhite-generacja/dp/B09CM5S9TW/ref=pd_rhf_dp_s_gccp_rtpb_sccl_5/262-7770746-5199541?pd_rd_w=55MDK&pf_rd_p=4f42843b-99ca-47b7-9428-b28bb13b4757&pf_rd_r=3BHSA3X3Q1BGPRQABF1C&pd_rd_r=5cc21aca-e09a-4830-95cf-28cb825cca6e&pd_rd_wg=5KyNT&pd_rd_i=B09CM5S9TW&th=1\""
   ]
  },
  {
   "cell_type": "code",
   "execution_count": 83,
   "id": "1c103a1b",
   "metadata": {},
   "outputs": [],
   "source": [
    "asin = html_obj.find('#detailBullets_feature_div > ul > li:nth-child(4) > span > span:nth-child(2)')"
   ]
  },
  {
   "cell_type": "code",
   "execution_count": 84,
   "id": "a424cec2",
   "metadata": {},
   "outputs": [
    {
     "data": {
      "text/plain": [
       "'B09CM5S9TW'"
      ]
     },
     "execution_count": 84,
     "metadata": {},
     "output_type": "execute_result"
    }
   ],
   "source": [
    "asin[0].text"
   ]
  },
  {
   "cell_type": "code",
   "execution_count": 114,
   "id": "e4c834ee",
   "metadata": {},
   "outputs": [
    {
     "data": {
      "text/plain": [
       "'B09CM5S9TW'"
      ]
     },
     "execution_count": 114,
     "metadata": {},
     "output_type": "execute_result"
    }
   ],
   "source": [
    "def get_asin(html_obj):\n",
    "    for li in html_obj.find('#detailBullets_feature_div > ul > li'):\n",
    "        spans = li.find(\"span\")\n",
    "        if spans[1].text.strip().startswith(\"ASIN\"):\n",
    "            return spans[2].text.strip()\n",
    "    return None\n",
    "get_asin(html_obj)"
   ]
  }
 ],
 "metadata": {
  "kernelspec": {
   "display_name": "Python 3 (ipykernel)",
   "language": "python",
   "name": "python3"
  },
  "language_info": {
   "codemirror_mode": {
    "name": "ipython",
    "version": 3
   },
   "file_extension": ".py",
   "mimetype": "text/x-python",
   "name": "python",
   "nbconvert_exporter": "python",
   "pygments_lexer": "ipython3",
   "version": "3.10.4"
  }
 },
 "nbformat": 4,
 "nbformat_minor": 5
}
