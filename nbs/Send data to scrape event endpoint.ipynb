{
 "cells": [
  {
   "cell_type": "code",
   "execution_count": 7,
   "id": "a1c9a05d",
   "metadata": {},
   "outputs": [],
   "source": [
    "import requests, pprint"
   ]
  },
  {
   "cell_type": "code",
   "execution_count": 8,
   "id": "57589f0a",
   "metadata": {},
   "outputs": [],
   "source": [
    "endpoint = 'http://127.0.0.1:8000/events/scrape'"
   ]
  },
  {
   "cell_type": "code",
   "execution_count": 9,
   "id": "ab820019",
   "metadata": {},
   "outputs": [
    {
     "name": "stdout",
     "output_type": "stream",
     "text": [
      "<Response [200]>\n",
      "{'asin': 'test_asin', 'title': 'abc123', 'price_str': '$19.99'}\n"
     ]
    }
   ],
   "source": [
    "asin = \"test_asin\"\n",
    "r = requests.post(endpoint, json={\"asin\": asin, \"title\": \"abc123\", \"price_str\": \"$19.99\"})\n",
    "print(r)\n",
    "print(r.json())"
   ]
  },
  {
   "cell_type": "code",
   "execution_count": 12,
   "id": "39e1369e",
   "metadata": {},
   "outputs": [
    {
     "name": "stdout",
     "output_type": "stream",
     "text": [
      "{'asin': 'test_asin',\n",
      " 'events': [{'asin': 'test_asin',\n",
      "             'created': '2022-04-18T18:33:47.077101',\n",
      "             'created_v2': '2022-04-18T18:33:47.077000',\n",
      "             'price_str': '-1',\n",
      "             'title': 'abc123'},\n",
      "            {'asin': 'test_asin',\n",
      "             'created': '2022-04-18T18:35:57.339831',\n",
      "             'created_v2': '2022-04-18T18:35:57.339000',\n",
      "             'price_str': '$19.99',\n",
      "             'title': 'abc123'},\n",
      "            {'asin': 'test_asin',\n",
      "             'created': '2022-04-18T18:33:43.654019',\n",
      "             'created_v2': '2022-04-18T18:33:43.654000',\n",
      "             'price_str': '-1',\n",
      "             'title': 'abc123'},\n",
      "            {'asin': 'test_asin',\n",
      "             'created': '2022-04-18T18:37:20.926406',\n",
      "             'created_v2': '2022-04-18T18:37:20.926000',\n",
      "             'price_str': '$19.99',\n",
      "             'title': 'abc123'},\n",
      "            {'asin': 'test_asin',\n",
      "             'created': '2022-04-18T18:33:44.905413',\n",
      "             'created_v2': '2022-04-18T18:33:44.905000',\n",
      "             'price_str': '-1',\n",
      "             'title': 'abc123'}],\n",
      " 'events_count': 11,\n",
      " 'events_url': 'http://127.0.0.1:8000/products/test_asin/events',\n",
      " 'price_str': '$19.99',\n",
      " 'title': 'abc123'}\n"
     ]
    }
   ],
   "source": [
    "endpoint2 = f'http://127.0.0.1:8000/products/{asin}'\n",
    "r2 = requests.get(endpoint2)\n",
    "pprint.pprint(r2.json())"
   ]
  },
  {
   "cell_type": "code",
   "execution_count": null,
   "id": "8f10dab7",
   "metadata": {},
   "outputs": [],
   "source": []
  },
  {
   "cell_type": "code",
   "execution_count": null,
   "id": "9ab40edb",
   "metadata": {},
   "outputs": [],
   "source": []
  }
 ],
 "metadata": {
  "kernelspec": {
   "display_name": "Python 3 (ipykernel)",
   "language": "python",
   "name": "python3"
  },
  "language_info": {
   "codemirror_mode": {
    "name": "ipython",
    "version": 3
   },
   "file_extension": ".py",
   "mimetype": "text/x-python",
   "name": "python",
   "nbconvert_exporter": "python",
   "pygments_lexer": "ipython3",
   "version": "3.10.4"
  }
 },
 "nbformat": 4,
 "nbformat_minor": 5
}
