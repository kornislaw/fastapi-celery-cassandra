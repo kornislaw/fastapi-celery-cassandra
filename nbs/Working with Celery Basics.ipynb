{
 "cells": [
  {
   "cell_type": "code",
   "execution_count": 2,
   "id": "17bac316",
   "metadata": {},
   "outputs": [
    {
     "name": "stdout",
     "output_type": "stream",
     "text": [
      "/Users/dominik/Documents/dev/workspaces/tutorials/fastapi-celery-astradb/nbs\r\n"
     ]
    }
   ],
   "source": [
    "!pwd"
   ]
  },
  {
   "cell_type": "code",
   "execution_count": 3,
   "id": "34425982",
   "metadata": {},
   "outputs": [
    {
     "name": "stdout",
     "output_type": "stream",
     "text": [
      "/Users/dominik/Documents/dev/workspaces/tutorials/fastapi-celery-astradb\n"
     ]
    }
   ],
   "source": [
    "cd .."
   ]
  },
  {
   "cell_type": "code",
   "execution_count": 5,
   "id": "836eb3e4",
   "metadata": {},
   "outputs": [],
   "source": [
    "from app.worker import random_task"
   ]
  },
  {
   "cell_type": "code",
   "execution_count": 6,
   "id": "a04b7e5f",
   "metadata": {},
   "outputs": [
    {
     "name": "stdout",
     "output_type": "stream",
     "text": [
      "Who throws a shoe. Honestly Kornik.\n"
     ]
    }
   ],
   "source": [
    "random_task('Kornik')"
   ]
  },
  {
   "cell_type": "code",
   "execution_count": 7,
   "id": "c461ac4d",
   "metadata": {},
   "outputs": [
    {
     "data": {
      "text/plain": [
       "<AsyncResult: 992d1900-229a-4560-9193-57eb8330ba79>"
      ]
     },
     "execution_count": 7,
     "metadata": {},
     "output_type": "execute_result"
    }
   ],
   "source": [
    "random_task.delay(\"Kornik\")"
   ]
  },
  {
   "cell_type": "code",
   "execution_count": 10,
   "id": "ade05f64",
   "metadata": {},
   "outputs": [],
   "source": [
    "for i in range(10):\n",
    "    random_task.delay(\"Kornik\")"
   ]
  },
  {
   "cell_type": "code",
   "execution_count": null,
   "id": "496a2d2c",
   "metadata": {},
   "outputs": [],
   "source": []
  }
 ],
 "metadata": {
  "kernelspec": {
   "display_name": "Python 3 (ipykernel)",
   "language": "python",
   "name": "python3"
  },
  "language_info": {
   "codemirror_mode": {
    "name": "ipython",
    "version": 3
   },
   "file_extension": ".py",
   "mimetype": "text/x-python",
   "name": "python",
   "nbconvert_exporter": "python",
   "pygments_lexer": "ipython3",
   "version": "3.10.4"
  }
 },
 "nbformat": 4,
 "nbformat_minor": 5
}
