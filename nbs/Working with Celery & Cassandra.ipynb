{
 "cells": [
  {
   "cell_type": "code",
   "execution_count": 1,
   "id": "17bac316",
   "metadata": {},
   "outputs": [
    {
     "name": "stdout",
     "output_type": "stream",
     "text": [
      "/Users/dominik/Documents/dev/workspaces/tutorials/fastapi-celery-astradb/nbs\r\n"
     ]
    }
   ],
   "source": [
    "!pwd"
   ]
  },
  {
   "cell_type": "code",
   "execution_count": 2,
   "id": "34425982",
   "metadata": {},
   "outputs": [
    {
     "name": "stdout",
     "output_type": "stream",
     "text": [
      "/Users/dominik/Documents/dev/workspaces/tutorials/fastapi-celery-astradb\n"
     ]
    }
   ],
   "source": [
    "cd .."
   ]
  },
  {
   "cell_type": "code",
   "execution_count": 14,
   "id": "836eb3e4",
   "metadata": {},
   "outputs": [],
   "source": [
    "from app.worker import list_products\n",
    "from app import db"
   ]
  },
  {
   "cell_type": "code",
   "execution_count": 15,
   "id": "a04b7e5f",
   "metadata": {},
   "outputs": [
    {
     "name": "stdout",
     "output_type": "stream",
     "text": [
      "['B07W2Z2ZS3', 'B07W2Z2ZS1', 'B07W2Z2ZS2', 'test_asin', 'testin123']\n"
     ]
    }
   ],
   "source": [
    "session = db.get_session()\n",
    "list_products()"
   ]
  },
  {
   "cell_type": "code",
   "execution_count": 16,
   "id": "c5004295",
   "metadata": {},
   "outputs": [
    {
     "name": "stdout",
     "output_type": "stream",
     "text": [
      "['B07W2Z2ZS3', 'B07W2Z2ZS1', 'B07W2Z2ZS2', 'test_asin', 'testin123']\n"
     ]
    }
   ],
   "source": [
    "list_products()"
   ]
  },
  {
   "cell_type": "code",
   "execution_count": 13,
   "id": "c461ac4d",
   "metadata": {},
   "outputs": [
    {
     "data": {
      "text/plain": [
       "<AsyncResult: 537289ac-100e-41fa-9277-06f9aa578d7e>"
      ]
     },
     "execution_count": 13,
     "metadata": {},
     "output_type": "execute_result"
    }
   ],
   "source": [
    "list_products.delay()"
   ]
  },
  {
   "cell_type": "code",
   "execution_count": 6,
   "id": "ade05f64",
   "metadata": {},
   "outputs": [],
   "source": [
    "for i in range(10):\n",
    "    list_products.delay()"
   ]
  },
  {
   "cell_type": "code",
   "execution_count": null,
   "id": "496a2d2c",
   "metadata": {},
   "outputs": [],
   "source": []
  }
 ],
 "metadata": {
  "kernelspec": {
   "display_name": "Python 3 (ipykernel)",
   "language": "python",
   "name": "python3"
  },
  "language_info": {
   "codemirror_mode": {
    "name": "ipython",
    "version": 3
   },
   "file_extension": ".py",
   "mimetype": "text/x-python",
   "name": "python",
   "nbconvert_exporter": "python",
   "pygments_lexer": "ipython3",
   "version": "3.10.4"
  }
 },
 "nbformat": 4,
 "nbformat_minor": 5
}
