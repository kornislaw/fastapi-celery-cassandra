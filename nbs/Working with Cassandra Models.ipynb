{
 "cells": [
  {
   "cell_type": "code",
   "execution_count": 1,
   "id": "17bac316",
   "metadata": {},
   "outputs": [
    {
     "name": "stderr",
     "output_type": "stream",
     "text": [
      "'pwd' is not recognized as an internal or external command,\n",
      "operable program or batch file.\n"
     ]
    }
   ],
   "source": [
    "!pwd"
   ]
  },
  {
   "cell_type": "code",
   "execution_count": 1,
   "id": "34425982",
   "metadata": {},
   "outputs": [
    {
     "name": "stdout",
     "output_type": "stream",
     "text": [
      "C:\\Users\\pieka\\dev\\workspaces\\workshops\\fastapi-celery-cassandra\n"
     ]
    }
   ],
   "source": [
    "cd .."
   ]
  },
  {
   "cell_type": "code",
   "execution_count": 2,
   "id": "836eb3e4",
   "metadata": {},
   "outputs": [
    {
     "name": "stdout",
     "output_type": "stream",
     "text": [
      "CQLENG_ALLOW_SCHEMA_MANAGEMENT not found\n",
      "C:\\Users\\pieka\\dev\\workspaces\\workshops\\fastapi-celery-cassandra\\app\\ignore\\connect.zip\n"
     ]
    }
   ],
   "source": [
    "from app import crud, db, models, main\n",
    "from pprint import pprint as pp"
   ]
  },
  {
   "cell_type": "code",
   "execution_count": 3,
   "id": "2c70010d",
   "metadata": {},
   "outputs": [
    {
     "ename": "DriverException",
     "evalue": "Unable to connect to the metadata service at https://b276396f-8858-47d9-8ade-ae31b25de670-europe-west1.db.astra.datastax.com:29080/metadata. Check the cluster status in the cloud console. ",
     "output_type": "error",
     "traceback": [
      "\u001b[1;31m---------------------------------------------------------------------------\u001b[0m",
      "\u001b[1;31mTimeoutError\u001b[0m                              Traceback (most recent call last)",
      "File \u001b[1;32m~\\dev\\workspaces\\workshops\\fastapi-celery-cassandra\\venv\\lib\\site-packages\\cassandra\\datastax\\cloud\\__init__.py:138\u001b[0m, in \u001b[0;36mread_metadata_info\u001b[1;34m(config, cloud_config)\u001b[0m\n\u001b[0;32m    137\u001b[0m \u001b[38;5;28;01mtry\u001b[39;00m:\n\u001b[1;32m--> 138\u001b[0m     response \u001b[38;5;241m=\u001b[39m \u001b[43murlopen\u001b[49m\u001b[43m(\u001b[49m\u001b[43murl\u001b[49m\u001b[43m,\u001b[49m\u001b[43m \u001b[49m\u001b[43mcontext\u001b[49m\u001b[38;5;241;43m=\u001b[39;49m\u001b[43mconfig\u001b[49m\u001b[38;5;241;43m.\u001b[39;49m\u001b[43mssl_context\u001b[49m\u001b[43m,\u001b[49m\u001b[43m \u001b[49m\u001b[43mtimeout\u001b[49m\u001b[38;5;241;43m=\u001b[39;49m\u001b[43mtimeout\u001b[49m\u001b[43m)\u001b[49m\n\u001b[0;32m    139\u001b[0m \u001b[38;5;28;01mexcept\u001b[39;00m \u001b[38;5;167;01mException\u001b[39;00m \u001b[38;5;28;01mas\u001b[39;00m e:\n",
      "File \u001b[1;32m~\\AppData\\Local\\Programs\\Python\\Python310\\lib\\urllib\\request.py:216\u001b[0m, in \u001b[0;36murlopen\u001b[1;34m(url, data, timeout, cafile, capath, cadefault, context)\u001b[0m\n\u001b[0;32m    215\u001b[0m     opener \u001b[38;5;241m=\u001b[39m _opener\n\u001b[1;32m--> 216\u001b[0m \u001b[38;5;28;01mreturn\u001b[39;00m \u001b[43mopener\u001b[49m\u001b[38;5;241;43m.\u001b[39;49m\u001b[43mopen\u001b[49m\u001b[43m(\u001b[49m\u001b[43murl\u001b[49m\u001b[43m,\u001b[49m\u001b[43m \u001b[49m\u001b[43mdata\u001b[49m\u001b[43m,\u001b[49m\u001b[43m \u001b[49m\u001b[43mtimeout\u001b[49m\u001b[43m)\u001b[49m\n",
      "File \u001b[1;32m~\\AppData\\Local\\Programs\\Python\\Python310\\lib\\urllib\\request.py:519\u001b[0m, in \u001b[0;36mOpenerDirector.open\u001b[1;34m(self, fullurl, data, timeout)\u001b[0m\n\u001b[0;32m    518\u001b[0m sys\u001b[38;5;241m.\u001b[39maudit(\u001b[38;5;124m'\u001b[39m\u001b[38;5;124murllib.Request\u001b[39m\u001b[38;5;124m'\u001b[39m, req\u001b[38;5;241m.\u001b[39mfull_url, req\u001b[38;5;241m.\u001b[39mdata, req\u001b[38;5;241m.\u001b[39mheaders, req\u001b[38;5;241m.\u001b[39mget_method())\n\u001b[1;32m--> 519\u001b[0m response \u001b[38;5;241m=\u001b[39m \u001b[38;5;28;43mself\u001b[39;49m\u001b[38;5;241;43m.\u001b[39;49m\u001b[43m_open\u001b[49m\u001b[43m(\u001b[49m\u001b[43mreq\u001b[49m\u001b[43m,\u001b[49m\u001b[43m \u001b[49m\u001b[43mdata\u001b[49m\u001b[43m)\u001b[49m\n\u001b[0;32m    521\u001b[0m \u001b[38;5;66;03m# post-process response\u001b[39;00m\n",
      "File \u001b[1;32m~\\AppData\\Local\\Programs\\Python\\Python310\\lib\\urllib\\request.py:536\u001b[0m, in \u001b[0;36mOpenerDirector._open\u001b[1;34m(self, req, data)\u001b[0m\n\u001b[0;32m    535\u001b[0m protocol \u001b[38;5;241m=\u001b[39m req\u001b[38;5;241m.\u001b[39mtype\n\u001b[1;32m--> 536\u001b[0m result \u001b[38;5;241m=\u001b[39m \u001b[38;5;28;43mself\u001b[39;49m\u001b[38;5;241;43m.\u001b[39;49m\u001b[43m_call_chain\u001b[49m\u001b[43m(\u001b[49m\u001b[38;5;28;43mself\u001b[39;49m\u001b[38;5;241;43m.\u001b[39;49m\u001b[43mhandle_open\u001b[49m\u001b[43m,\u001b[49m\u001b[43m \u001b[49m\u001b[43mprotocol\u001b[49m\u001b[43m,\u001b[49m\u001b[43m \u001b[49m\u001b[43mprotocol\u001b[49m\u001b[43m \u001b[49m\u001b[38;5;241;43m+\u001b[39;49m\n\u001b[0;32m    537\u001b[0m \u001b[43m                          \u001b[49m\u001b[38;5;124;43m'\u001b[39;49m\u001b[38;5;124;43m_open\u001b[39;49m\u001b[38;5;124;43m'\u001b[39;49m\u001b[43m,\u001b[49m\u001b[43m \u001b[49m\u001b[43mreq\u001b[49m\u001b[43m)\u001b[49m\n\u001b[0;32m    538\u001b[0m \u001b[38;5;28;01mif\u001b[39;00m result:\n",
      "File \u001b[1;32m~\\AppData\\Local\\Programs\\Python\\Python310\\lib\\urllib\\request.py:496\u001b[0m, in \u001b[0;36mOpenerDirector._call_chain\u001b[1;34m(self, chain, kind, meth_name, *args)\u001b[0m\n\u001b[0;32m    495\u001b[0m func \u001b[38;5;241m=\u001b[39m \u001b[38;5;28mgetattr\u001b[39m(handler, meth_name)\n\u001b[1;32m--> 496\u001b[0m result \u001b[38;5;241m=\u001b[39m \u001b[43mfunc\u001b[49m\u001b[43m(\u001b[49m\u001b[38;5;241;43m*\u001b[39;49m\u001b[43margs\u001b[49m\u001b[43m)\u001b[49m\n\u001b[0;32m    497\u001b[0m \u001b[38;5;28;01mif\u001b[39;00m result \u001b[38;5;129;01mis\u001b[39;00m \u001b[38;5;129;01mnot\u001b[39;00m \u001b[38;5;28;01mNone\u001b[39;00m:\n",
      "File \u001b[1;32m~\\AppData\\Local\\Programs\\Python\\Python310\\lib\\urllib\\request.py:1391\u001b[0m, in \u001b[0;36mHTTPSHandler.https_open\u001b[1;34m(self, req)\u001b[0m\n\u001b[0;32m   1390\u001b[0m \u001b[38;5;28;01mdef\u001b[39;00m \u001b[38;5;21mhttps_open\u001b[39m(\u001b[38;5;28mself\u001b[39m, req):\n\u001b[1;32m-> 1391\u001b[0m     \u001b[38;5;28;01mreturn\u001b[39;00m \u001b[38;5;28;43mself\u001b[39;49m\u001b[38;5;241;43m.\u001b[39;49m\u001b[43mdo_open\u001b[49m\u001b[43m(\u001b[49m\u001b[43mhttp\u001b[49m\u001b[38;5;241;43m.\u001b[39;49m\u001b[43mclient\u001b[49m\u001b[38;5;241;43m.\u001b[39;49m\u001b[43mHTTPSConnection\u001b[49m\u001b[43m,\u001b[49m\u001b[43m \u001b[49m\u001b[43mreq\u001b[49m\u001b[43m,\u001b[49m\n\u001b[0;32m   1392\u001b[0m \u001b[43m        \u001b[49m\u001b[43mcontext\u001b[49m\u001b[38;5;241;43m=\u001b[39;49m\u001b[38;5;28;43mself\u001b[39;49m\u001b[38;5;241;43m.\u001b[39;49m\u001b[43m_context\u001b[49m\u001b[43m,\u001b[49m\u001b[43m \u001b[49m\u001b[43mcheck_hostname\u001b[49m\u001b[38;5;241;43m=\u001b[39;49m\u001b[38;5;28;43mself\u001b[39;49m\u001b[38;5;241;43m.\u001b[39;49m\u001b[43m_check_hostname\u001b[49m\u001b[43m)\u001b[49m\n",
      "File \u001b[1;32m~\\AppData\\Local\\Programs\\Python\\Python310\\lib\\urllib\\request.py:1352\u001b[0m, in \u001b[0;36mAbstractHTTPHandler.do_open\u001b[1;34m(self, http_class, req, **http_conn_args)\u001b[0m\n\u001b[0;32m   1351\u001b[0m         \u001b[38;5;28;01mraise\u001b[39;00m URLError(err)\n\u001b[1;32m-> 1352\u001b[0m     r \u001b[38;5;241m=\u001b[39m \u001b[43mh\u001b[49m\u001b[38;5;241;43m.\u001b[39;49m\u001b[43mgetresponse\u001b[49m\u001b[43m(\u001b[49m\u001b[43m)\u001b[49m\n\u001b[0;32m   1353\u001b[0m \u001b[38;5;28;01mexcept\u001b[39;00m:\n",
      "File \u001b[1;32m~\\AppData\\Local\\Programs\\Python\\Python310\\lib\\http\\client.py:1374\u001b[0m, in \u001b[0;36mHTTPConnection.getresponse\u001b[1;34m(self)\u001b[0m\n\u001b[0;32m   1373\u001b[0m \u001b[38;5;28;01mtry\u001b[39;00m:\n\u001b[1;32m-> 1374\u001b[0m     \u001b[43mresponse\u001b[49m\u001b[38;5;241;43m.\u001b[39;49m\u001b[43mbegin\u001b[49m\u001b[43m(\u001b[49m\u001b[43m)\u001b[49m\n\u001b[0;32m   1375\u001b[0m \u001b[38;5;28;01mexcept\u001b[39;00m \u001b[38;5;167;01mConnectionError\u001b[39;00m:\n",
      "File \u001b[1;32m~\\AppData\\Local\\Programs\\Python\\Python310\\lib\\http\\client.py:318\u001b[0m, in \u001b[0;36mHTTPResponse.begin\u001b[1;34m(self)\u001b[0m\n\u001b[0;32m    317\u001b[0m \u001b[38;5;28;01mwhile\u001b[39;00m \u001b[38;5;28;01mTrue\u001b[39;00m:\n\u001b[1;32m--> 318\u001b[0m     version, status, reason \u001b[38;5;241m=\u001b[39m \u001b[38;5;28;43mself\u001b[39;49m\u001b[38;5;241;43m.\u001b[39;49m\u001b[43m_read_status\u001b[49m\u001b[43m(\u001b[49m\u001b[43m)\u001b[49m\n\u001b[0;32m    319\u001b[0m     \u001b[38;5;28;01mif\u001b[39;00m status \u001b[38;5;241m!=\u001b[39m CONTINUE:\n",
      "File \u001b[1;32m~\\AppData\\Local\\Programs\\Python\\Python310\\lib\\http\\client.py:279\u001b[0m, in \u001b[0;36mHTTPResponse._read_status\u001b[1;34m(self)\u001b[0m\n\u001b[0;32m    278\u001b[0m \u001b[38;5;28;01mdef\u001b[39;00m \u001b[38;5;21m_read_status\u001b[39m(\u001b[38;5;28mself\u001b[39m):\n\u001b[1;32m--> 279\u001b[0m     line \u001b[38;5;241m=\u001b[39m \u001b[38;5;28mstr\u001b[39m(\u001b[38;5;28;43mself\u001b[39;49m\u001b[38;5;241;43m.\u001b[39;49m\u001b[43mfp\u001b[49m\u001b[38;5;241;43m.\u001b[39;49m\u001b[43mreadline\u001b[49m\u001b[43m(\u001b[49m\u001b[43m_MAXLINE\u001b[49m\u001b[43m \u001b[49m\u001b[38;5;241;43m+\u001b[39;49m\u001b[43m \u001b[49m\u001b[38;5;241;43m1\u001b[39;49m\u001b[43m)\u001b[49m, \u001b[38;5;124m\"\u001b[39m\u001b[38;5;124miso-8859-1\u001b[39m\u001b[38;5;124m\"\u001b[39m)\n\u001b[0;32m    280\u001b[0m     \u001b[38;5;28;01mif\u001b[39;00m \u001b[38;5;28mlen\u001b[39m(line) \u001b[38;5;241m>\u001b[39m _MAXLINE:\n",
      "File \u001b[1;32m~\\AppData\\Local\\Programs\\Python\\Python310\\lib\\socket.py:705\u001b[0m, in \u001b[0;36mSocketIO.readinto\u001b[1;34m(self, b)\u001b[0m\n\u001b[0;32m    704\u001b[0m \u001b[38;5;28;01mtry\u001b[39;00m:\n\u001b[1;32m--> 705\u001b[0m     \u001b[38;5;28;01mreturn\u001b[39;00m \u001b[38;5;28;43mself\u001b[39;49m\u001b[38;5;241;43m.\u001b[39;49m\u001b[43m_sock\u001b[49m\u001b[38;5;241;43m.\u001b[39;49m\u001b[43mrecv_into\u001b[49m\u001b[43m(\u001b[49m\u001b[43mb\u001b[49m\u001b[43m)\u001b[49m\n\u001b[0;32m    706\u001b[0m \u001b[38;5;28;01mexcept\u001b[39;00m timeout:\n",
      "File \u001b[1;32m~\\AppData\\Local\\Programs\\Python\\Python310\\lib\\ssl.py:1273\u001b[0m, in \u001b[0;36mSSLSocket.recv_into\u001b[1;34m(self, buffer, nbytes, flags)\u001b[0m\n\u001b[0;32m   1270\u001b[0m         \u001b[38;5;28;01mraise\u001b[39;00m \u001b[38;5;167;01mValueError\u001b[39;00m(\n\u001b[0;32m   1271\u001b[0m           \u001b[38;5;124m\"\u001b[39m\u001b[38;5;124mnon-zero flags not allowed in calls to recv_into() on \u001b[39m\u001b[38;5;132;01m%s\u001b[39;00m\u001b[38;5;124m\"\u001b[39m \u001b[38;5;241m%\u001b[39m\n\u001b[0;32m   1272\u001b[0m           \u001b[38;5;28mself\u001b[39m\u001b[38;5;241m.\u001b[39m\u001b[38;5;18m__class__\u001b[39m)\n\u001b[1;32m-> 1273\u001b[0m     \u001b[38;5;28;01mreturn\u001b[39;00m \u001b[38;5;28;43mself\u001b[39;49m\u001b[38;5;241;43m.\u001b[39;49m\u001b[43mread\u001b[49m\u001b[43m(\u001b[49m\u001b[43mnbytes\u001b[49m\u001b[43m,\u001b[49m\u001b[43m \u001b[49m\u001b[43mbuffer\u001b[49m\u001b[43m)\u001b[49m\n\u001b[0;32m   1274\u001b[0m \u001b[38;5;28;01melse\u001b[39;00m:\n",
      "File \u001b[1;32m~\\AppData\\Local\\Programs\\Python\\Python310\\lib\\ssl.py:1129\u001b[0m, in \u001b[0;36mSSLSocket.read\u001b[1;34m(self, len, buffer)\u001b[0m\n\u001b[0;32m   1128\u001b[0m \u001b[38;5;28;01mif\u001b[39;00m buffer \u001b[38;5;129;01mis\u001b[39;00m \u001b[38;5;129;01mnot\u001b[39;00m \u001b[38;5;28;01mNone\u001b[39;00m:\n\u001b[1;32m-> 1129\u001b[0m     \u001b[38;5;28;01mreturn\u001b[39;00m \u001b[38;5;28;43mself\u001b[39;49m\u001b[38;5;241;43m.\u001b[39;49m\u001b[43m_sslobj\u001b[49m\u001b[38;5;241;43m.\u001b[39;49m\u001b[43mread\u001b[49m\u001b[43m(\u001b[49m\u001b[38;5;28;43mlen\u001b[39;49m\u001b[43m,\u001b[49m\u001b[43m \u001b[49m\u001b[43mbuffer\u001b[49m\u001b[43m)\u001b[49m\n\u001b[0;32m   1130\u001b[0m \u001b[38;5;28;01melse\u001b[39;00m:\n",
      "\u001b[1;31mTimeoutError\u001b[0m: The read operation timed out",
      "\nDuring handling of the above exception, another exception occurred:\n",
      "\u001b[1;31mDriverException\u001b[0m                           Traceback (most recent call last)",
      "Input \u001b[1;32mIn [3]\u001b[0m, in \u001b[0;36m<cell line: 1>\u001b[1;34m()\u001b[0m\n\u001b[1;32m----> 1\u001b[0m session \u001b[38;5;241m=\u001b[39m \u001b[43mdb\u001b[49m\u001b[38;5;241;43m.\u001b[39;49m\u001b[43mget_session\u001b[49m\u001b[43m(\u001b[49m\u001b[43m)\u001b[49m\n\u001b[0;32m      2\u001b[0m main\u001b[38;5;241m.\u001b[39mon_startup()\n",
      "File \u001b[1;32m~\\dev\\workspaces\\workshops\\fastapi-celery-cassandra\\app\\db.py:35\u001b[0m, in \u001b[0;36mget_session\u001b[1;34m()\u001b[0m\n\u001b[0;32m     34\u001b[0m \u001b[38;5;28;01mdef\u001b[39;00m \u001b[38;5;21mget_session\u001b[39m():\n\u001b[1;32m---> 35\u001b[0m     cluster \u001b[38;5;241m=\u001b[39m \u001b[43mget_cluster\u001b[49m\u001b[43m(\u001b[49m\u001b[43m)\u001b[49m\n\u001b[0;32m     36\u001b[0m     session \u001b[38;5;241m=\u001b[39m cluster\u001b[38;5;241m.\u001b[39mconnect()\n\u001b[0;32m     37\u001b[0m     register_connection(\u001b[38;5;28mstr\u001b[39m(session), session\u001b[38;5;241m=\u001b[39msession)\n",
      "File \u001b[1;32m~\\dev\\workspaces\\workshops\\fastapi-celery-cassandra\\app\\db.py:30\u001b[0m, in \u001b[0;36mget_cluster\u001b[1;34m()\u001b[0m\n\u001b[0;32m     25\u001b[0m cloud_config \u001b[38;5;241m=\u001b[39m {\n\u001b[0;32m     26\u001b[0m     \u001b[38;5;124m'\u001b[39m\u001b[38;5;124msecure_connect_bundle\u001b[39m\u001b[38;5;124m'\u001b[39m: CLUSTER_BUNDLE\n\u001b[0;32m     27\u001b[0m }\n\u001b[0;32m     28\u001b[0m auth_provider \u001b[38;5;241m=\u001b[39m PlainTextAuthProvider(\n\u001b[0;32m     29\u001b[0m     ASTRA_DB_CLIENT_ID, ASTRA_DB_CLIENT_SECRET)\n\u001b[1;32m---> 30\u001b[0m cluster \u001b[38;5;241m=\u001b[39m \u001b[43mCluster\u001b[49m\u001b[43m(\u001b[49m\u001b[43mcloud\u001b[49m\u001b[38;5;241;43m=\u001b[39;49m\u001b[43mcloud_config\u001b[49m\u001b[43m,\u001b[49m\u001b[43m \u001b[49m\u001b[43mauth_provider\u001b[49m\u001b[38;5;241;43m=\u001b[39;49m\u001b[43mauth_provider\u001b[49m\u001b[43m)\u001b[49m\n\u001b[0;32m     31\u001b[0m \u001b[38;5;28;01mreturn\u001b[39;00m cluster\n",
      "File \u001b[1;32m~\\dev\\workspaces\\workshops\\fastapi-celery-cassandra\\venv\\lib\\site-packages\\cassandra\\cluster.py:1125\u001b[0m, in \u001b[0;36mcassandra.cluster.Cluster.__init__\u001b[1;34m()\u001b[0m\n",
      "File \u001b[1;32m~\\dev\\workspaces\\workshops\\fastapi-celery-cassandra\\venv\\lib\\site-packages\\cassandra\\datastax\\cloud\\__init__.py:92\u001b[0m, in \u001b[0;36mget_cloud_config\u001b[1;34m(cloud_config, create_pyopenssl_context)\u001b[0m\n\u001b[0;32m     89\u001b[0m \u001b[38;5;28;01mexcept\u001b[39;00m BadZipFile:\n\u001b[0;32m     90\u001b[0m     \u001b[38;5;28;01mraise\u001b[39;00m \u001b[38;5;167;01mValueError\u001b[39;00m(\u001b[38;5;124m\"\u001b[39m\u001b[38;5;124mUnable to open the zip file for the cloud config. Check your secure connect bundle.\u001b[39m\u001b[38;5;124m\"\u001b[39m)\n\u001b[1;32m---> 92\u001b[0m config \u001b[38;5;241m=\u001b[39m \u001b[43mread_metadata_info\u001b[49m\u001b[43m(\u001b[49m\u001b[43mconfig\u001b[49m\u001b[43m,\u001b[49m\u001b[43m \u001b[49m\u001b[43mcloud_config\u001b[49m\u001b[43m)\u001b[49m\n\u001b[0;32m     93\u001b[0m \u001b[38;5;28;01mif\u001b[39;00m create_pyopenssl_context:\n\u001b[0;32m     94\u001b[0m     config\u001b[38;5;241m.\u001b[39mssl_context \u001b[38;5;241m=\u001b[39m config\u001b[38;5;241m.\u001b[39mpyopenssl_context\n",
      "File \u001b[1;32m~\\dev\\workspaces\\workshops\\fastapi-celery-cassandra\\venv\\lib\\site-packages\\cassandra\\datastax\\cloud\\__init__.py:141\u001b[0m, in \u001b[0;36mread_metadata_info\u001b[1;34m(config, cloud_config)\u001b[0m\n\u001b[0;32m    139\u001b[0m \u001b[38;5;28;01mexcept\u001b[39;00m \u001b[38;5;167;01mException\u001b[39;00m \u001b[38;5;28;01mas\u001b[39;00m e:\n\u001b[0;32m    140\u001b[0m     log\u001b[38;5;241m.\u001b[39mexception(e)\n\u001b[1;32m--> 141\u001b[0m     \u001b[38;5;28;01mraise\u001b[39;00m DriverException(\u001b[38;5;124m\"\u001b[39m\u001b[38;5;124mUnable to connect to the metadata service at \u001b[39m\u001b[38;5;132;01m%s\u001b[39;00m\u001b[38;5;124m. \u001b[39m\u001b[38;5;124m\"\u001b[39m\n\u001b[0;32m    142\u001b[0m                           \u001b[38;5;124m\"\u001b[39m\u001b[38;5;124mCheck the cluster status in the cloud console. \u001b[39m\u001b[38;5;124m\"\u001b[39m \u001b[38;5;241m%\u001b[39m url)\n\u001b[0;32m    144\u001b[0m \u001b[38;5;28;01mif\u001b[39;00m response\u001b[38;5;241m.\u001b[39mcode \u001b[38;5;241m!=\u001b[39m \u001b[38;5;241m200\u001b[39m:\n\u001b[0;32m    145\u001b[0m     \u001b[38;5;28;01mraise\u001b[39;00m DriverException((\u001b[38;5;124m\"\u001b[39m\u001b[38;5;124mError while fetching the metadata at: \u001b[39m\u001b[38;5;132;01m%s\u001b[39;00m\u001b[38;5;124m. \u001b[39m\u001b[38;5;124m\"\u001b[39m\n\u001b[0;32m    146\u001b[0m                            \u001b[38;5;124m\"\u001b[39m\u001b[38;5;124mThe service returned error code \u001b[39m\u001b[38;5;132;01m%d\u001b[39;00m\u001b[38;5;124m.\u001b[39m\u001b[38;5;124m\"\u001b[39m \u001b[38;5;241m%\u001b[39m (url, response\u001b[38;5;241m.\u001b[39mcode)))\n",
      "\u001b[1;31mDriverException\u001b[0m: Unable to connect to the metadata service at https://b276396f-8858-47d9-8ade-ae31b25de670-europe-west1.db.astra.datastax.com:29080/metadata. Check the cluster status in the cloud console. "
     ]
    }
   ],
   "source": [
    "session = db.get_session()\n",
    "main.on_startup()"
   ]
  },
  {
   "cell_type": "code",
   "execution_count": 5,
   "id": "0e8a4a69",
   "metadata": {},
   "outputs": [
    {
     "data": {
      "text/plain": [
       "{'asin': 'B07W2Z2ZS3', 'title': 'Garmin Fcośtam innego'}"
      ]
     },
     "execution_count": 5,
     "metadata": {},
     "output_type": "execute_result"
    }
   ],
   "source": [
    "data = models.data\n",
    "data"
   ]
  },
  {
   "cell_type": "code",
   "execution_count": 6,
   "id": "c1e8e457",
   "metadata": {},
   "outputs": [
    {
     "name": "stdout",
     "output_type": "stream",
     "text": [
      "2022-04-18 08:24:53.520606\n"
     ]
    },
    {
     "data": {
      "text/plain": [
       "(Product(asin='B07W2Z2ZS3', title='Garmin Fcośtam innego', price_str='-1'),\n",
       " ProductScrapeEvent(uuid=UUID('05caa8ac-bef1-11ec-a38b-9801a7b33ff1'), asin='B07W2Z2ZS3', title='Garmin Fcośtam innego', price_str='-1', created_v2=datetime.datetime(2022, 4, 18, 8, 24, 53, 520606)))"
      ]
     },
     "execution_count": 6,
     "metadata": {},
     "output_type": "execute_result"
    }
   ],
   "source": [
    "crud.add_scrape_event(data, fresh=True)"
   ]
  },
  {
   "cell_type": "code",
   "execution_count": 7,
   "id": "7fc1de09",
   "metadata": {},
   "outputs": [
    {
     "data": {
      "text/plain": [
       "{'asin': 'B07W2Z2ZS3', 'title': 'Garmin Fcośtam innego'}"
      ]
     },
     "execution_count": 7,
     "metadata": {},
     "output_type": "execute_result"
    }
   ],
   "source": [
    "data"
   ]
  },
  {
   "cell_type": "code",
   "execution_count": 8,
   "id": "9338e313",
   "metadata": {},
   "outputs": [
    {
     "name": "stdout",
     "output_type": "stream",
     "text": [
      "2022-04-18 08:24:53.643290\n"
     ]
    },
    {
     "data": {
      "text/plain": [
       "UUID('05dd6104-bef1-11ec-a38b-9801a7b33ff1')"
      ]
     },
     "execution_count": 8,
     "metadata": {},
     "output_type": "execute_result"
    }
   ],
   "source": [
    "product, event = crud.add_scrape_event(data, fresh=True)\n",
    "event[\"uuid\"]"
   ]
  },
  {
   "cell_type": "code",
   "execution_count": 9,
   "id": "e0cd8a99",
   "metadata": {},
   "outputs": [
    {
     "data": {
      "text/plain": [
       "4"
      ]
     },
     "execution_count": 9,
     "metadata": {},
     "output_type": "execute_result"
    }
   ],
   "source": [
    "len(models.Product.objects.all())"
   ]
  },
  {
   "cell_type": "code",
   "execution_count": 10,
   "id": "2fa90581",
   "metadata": {},
   "outputs": [
    {
     "data": {
      "text/plain": [
       "100"
      ]
     },
     "execution_count": 10,
     "metadata": {},
     "output_type": "execute_result"
    }
   ],
   "source": [
    "len(models.ProductScrapeEvent.objects.all())"
   ]
  },
  {
   "cell_type": "code",
   "execution_count": 11,
   "id": "28480166",
   "metadata": {},
   "outputs": [],
   "source": [
    "asin = None\n",
    "qs = models.Product.objects().all()\n",
    "for obj in qs:\n",
    "    asin = obj.asin"
   ]
  },
  {
   "cell_type": "code",
   "execution_count": 12,
   "id": "58a035d5",
   "metadata": {},
   "outputs": [
    {
     "data": {
      "text/plain": [
       "'testin123'"
      ]
     },
     "execution_count": 12,
     "metadata": {},
     "output_type": "execute_result"
    }
   ],
   "source": [
    "asin"
   ]
  },
  {
   "cell_type": "code",
   "execution_count": 13,
   "id": "ff923fed",
   "metadata": {},
   "outputs": [
    {
     "name": "stdout",
     "output_type": "stream",
     "text": [
      "Scrape events for testin123:\n",
      "SELECT \"uuid\", \"title\", \"price_str\", \"created_v2\" FROM scraper_app.product_scrape_event WHERE \"asin\" = %(0)s LIMIT 10000\n",
      "0 testin123 \t a9bd0c24-bdd0-11ec-bea8-9801a7b33ff1\n",
      "1 testin123 \t aa32c7de-bdd0-11ec-bea8-9801a7b33ff1\n",
      "2 testin123 \t a92bc76e-bdd0-11ec-bea8-9801a7b33ff1\n",
      "3 testin123 \t aaefcffa-bdd0-11ec-bea8-9801a7b33ff1\n",
      "4 testin123 \t a23182c8-bdd0-11ec-bea8-9801a7b33ff1\n",
      "5 testin123 \t e5c8ef44-bdd0-11ec-8c86-9801a7b33ff1\n",
      "6 testin123 \t aa97cf1c-bdd0-11ec-bea8-9801a7b33ff1\n"
     ]
    }
   ],
   "source": [
    "if asin is not None:\n",
    "    print(f\"Scrape events for {asin}:\")\n",
    "    qs = models.ProductScrapeEvent.objects.filter(asin=asin)\n",
    "    print(qs)\n",
    "    for i, obj in enumerate(qs):\n",
    "        print(i, obj.asin, \"\\t\", obj.uuid)"
   ]
  },
  {
   "cell_type": "code",
   "execution_count": 14,
   "id": "9292df4b",
   "metadata": {},
   "outputs": [],
   "source": [
    "session = db.get_session()"
   ]
  },
  {
   "cell_type": "code",
   "execution_count": 15,
   "id": "a078a6f7",
   "metadata": {},
   "outputs": [
    {
     "name": "stdout",
     "output_type": "stream",
     "text": [
      "{'asin': 'B07W2Z2ZS3', 'price_str': '-1', 'title': 'Garmin Fcośtam innego'}\n",
      "{'asin': 'B07W2Z2ZS1', 'price_str': None, 'title': 'Garmin FcoÅśtam'}\n",
      "{'asin': 'B07W2Z2ZS2', 'price_str': None, 'title': 'Garmin FcoÅśtam innego'}\n",
      "{'asin': 'testin123', 'price_str': '-1', 'title': 'hello world'}\n"
     ]
    }
   ],
   "source": [
    "qs = models.Product.objects().all()\n",
    "for row in session.execute(str(qs)):\n",
    "    print(row)"
   ]
  },
  {
   "cell_type": "code",
   "execution_count": 16,
   "id": "264d1978",
   "metadata": {},
   "outputs": [],
   "source": [
    "product = crud.create_entry({'asin': 'B07W2Z2ZS3', 'title': 'Zażółć Gęślą Jaźń'})\n",
    "asin = product.asin"
   ]
  },
  {
   "cell_type": "code",
   "execution_count": 17,
   "id": "81aa27da",
   "metadata": {},
   "outputs": [
    {
     "data": {
      "text/plain": [
       "'Zażółć Gęślą Jaźń'"
      ]
     },
     "execution_count": 17,
     "metadata": {},
     "output_type": "execute_result"
    }
   ],
   "source": [
    "product = models.Product.objects.filter(asin=asin)[0]\n",
    "product.title"
   ]
  },
  {
   "cell_type": "code",
   "execution_count": 18,
   "id": "a8b73c73",
   "metadata": {},
   "outputs": [
    {
     "data": {
      "text/plain": [
       "'SELECT * FROM scraper_app.product LIMIT 10000'"
      ]
     },
     "execution_count": 18,
     "metadata": {},
     "output_type": "execute_result"
    }
   ],
   "source": [
    "str(qs)"
   ]
  },
  {
   "cell_type": "code",
   "execution_count": 19,
   "id": "70aa08f2",
   "metadata": {},
   "outputs": [
    {
     "data": {
      "text/plain": [
       "['__call__',\n",
       " '__class__',\n",
       " '__deepcopy__',\n",
       " '__delattr__',\n",
       " '__dict__',\n",
       " '__dir__',\n",
       " '__doc__',\n",
       " '__eq__',\n",
       " '__format__',\n",
       " '__ge__',\n",
       " '__getattribute__',\n",
       " '__getitem__',\n",
       " '__gt__',\n",
       " '__hash__',\n",
       " '__init__',\n",
       " '__init_subclass__',\n",
       " '__iter__',\n",
       " '__le__',\n",
       " '__len__',\n",
       " '__lt__',\n",
       " '__module__',\n",
       " '__ne__',\n",
       " '__new__',\n",
       " '__reduce__',\n",
       " '__reduce_ex__',\n",
       " '__repr__',\n",
       " '__setattr__',\n",
       " '__sizeof__',\n",
       " '__str__',\n",
       " '__subclasshook__',\n",
       " '__unicode__',\n",
       " '__weakref__',\n",
       " '_allow_filtering',\n",
       " '_batch',\n",
       " '_conditional',\n",
       " '_connection',\n",
       " '_consistency',\n",
       " '_construct_with_deferred',\n",
       " '_count',\n",
       " '_defer_fields',\n",
       " '_deferred_values',\n",
       " '_distinct_fields',\n",
       " '_execute',\n",
       " '_execute_query',\n",
       " '_fetch_size',\n",
       " '_fill_result_cache',\n",
       " '_fill_result_cache_to_idx',\n",
       " '_flat_values_list',\n",
       " '_get_ordering_condition',\n",
       " '_get_result_constructor',\n",
       " '_if_exists',\n",
       " '_if_not_exists',\n",
       " '_limit',\n",
       " '_materialize_results',\n",
       " '_maybe_inject_deferred',\n",
       " '_only_fields',\n",
       " '_only_or_defer',\n",
       " '_order',\n",
       " '_parse_filter_arg',\n",
       " '_result_cache',\n",
       " '_result_generator',\n",
       " '_result_idx',\n",
       " '_select_fields',\n",
       " '_select_query',\n",
       " '_timeout',\n",
       " '_timestamp',\n",
       " '_ttl',\n",
       " '_validate_select_where',\n",
       " '_values_list',\n",
       " '_where',\n",
       " 'all',\n",
       " 'allow_filtering',\n",
       " 'batch',\n",
       " 'column_family_name',\n",
       " 'consistency',\n",
       " 'count',\n",
       " 'create',\n",
       " 'defer',\n",
       " 'delete',\n",
       " 'distinct',\n",
       " 'fetch_size',\n",
       " 'filter',\n",
       " 'first',\n",
       " 'get',\n",
       " 'if_exists',\n",
       " 'if_not_exists',\n",
       " 'iff',\n",
       " 'limit',\n",
       " 'model',\n",
       " 'only',\n",
       " 'order_by',\n",
       " 'timeout',\n",
       " 'timestamp',\n",
       " 'ttl',\n",
       " 'update',\n",
       " 'using',\n",
       " 'values_list']"
      ]
     },
     "execution_count": 19,
     "metadata": {},
     "output_type": "execute_result"
    }
   ],
   "source": [
    "dir(qs)"
   ]
  },
  {
   "cell_type": "code",
   "execution_count": 20,
   "id": "beaa5278",
   "metadata": {},
   "outputs": [
    {
     "name": "stdout",
     "output_type": "stream",
     "text": [
      "4\n"
     ]
    },
    {
     "data": {
      "text/plain": [
       "Product(asin='testin123', title='hello world', price_str='-1')"
      ]
     },
     "execution_count": 20,
     "metadata": {},
     "output_type": "execute_result"
    }
   ],
   "source": [
    "print(qs.count())\n",
    "qs[3]"
   ]
  },
  {
   "cell_type": "code",
   "execution_count": null,
   "id": "67609985",
   "metadata": {},
   "outputs": [],
   "source": []
  }
 ],
 "metadata": {
  "kernelspec": {
   "display_name": "Python 3 (ipykernel)",
   "language": "python",
   "name": "python3"
  },
  "language_info": {
   "codemirror_mode": {
    "name": "ipython",
    "version": 3
   },
   "file_extension": ".py",
   "mimetype": "text/x-python",
   "name": "python",
   "nbconvert_exporter": "python",
   "pygments_lexer": "ipython3",
   "version": "3.10.4"
  }
 },
 "nbformat": 4,
 "nbformat_minor": 5
}
