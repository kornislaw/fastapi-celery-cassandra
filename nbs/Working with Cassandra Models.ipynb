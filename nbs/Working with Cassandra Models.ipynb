{
 "cells": [
  {
   "cell_type": "code",
   "execution_count": 1,
   "id": "17bac316",
   "metadata": {},
   "outputs": [
    {
     "name": "stdout",
     "output_type": "stream",
     "text": [
      "/Users/dominik/Documents/dev/workspaces/tutorials/fastapi-celery-astradb/nbs\r\n"
     ]
    }
   ],
   "source": [
    "!pwd"
   ]
  },
  {
   "cell_type": "code",
   "execution_count": 2,
   "id": "34425982",
   "metadata": {},
   "outputs": [
    {
     "name": "stdout",
     "output_type": "stream",
     "text": [
      "/Users/dominik/Documents/dev/workspaces/tutorials/fastapi-celery-astradb\n"
     ]
    }
   ],
   "source": [
    "cd .."
   ]
  },
  {
   "cell_type": "code",
   "execution_count": 3,
   "id": "836eb3e4",
   "metadata": {},
   "outputs": [
    {
     "name": "stdout",
     "output_type": "stream",
     "text": [
      "CQLENG_ALLOW_SCHEMA_MANAGEMENT not found\n"
     ]
    }
   ],
   "source": [
    "from app import crud, db, models, main\n",
    "from pprint import pprint as pp"
   ]
  },
  {
   "cell_type": "code",
   "execution_count": 4,
   "id": "2c70010d",
   "metadata": {},
   "outputs": [],
   "source": [
    "session = db.get_session()\n",
    "main.on_startup()"
   ]
  },
  {
   "cell_type": "code",
   "execution_count": 5,
   "id": "0e8a4a69",
   "metadata": {},
   "outputs": [
    {
     "data": {
      "text/plain": [
       "{'asin': 'B07W2Z2ZS3', 'title': 'Garmin Fcośtam innego'}"
      ]
     },
     "execution_count": 5,
     "metadata": {},
     "output_type": "execute_result"
    }
   ],
   "source": [
    "data = models.data\n",
    "data"
   ]
  },
  {
   "cell_type": "code",
   "execution_count": 6,
   "id": "c1e8e457",
   "metadata": {},
   "outputs": [
    {
     "name": "stdout",
     "output_type": "stream",
     "text": [
      "2022-04-18 08:24:53.520606\n"
     ]
    },
    {
     "data": {
      "text/plain": [
       "(Product(asin='B07W2Z2ZS3', title='Garmin Fcośtam innego', price_str='-1'),\n",
       " ProductScrapeEvent(uuid=UUID('05caa8ac-bef1-11ec-a38b-9801a7b33ff1'), asin='B07W2Z2ZS3', title='Garmin Fcośtam innego', price_str='-1', created_v2=datetime.datetime(2022, 4, 18, 8, 24, 53, 520606)))"
      ]
     },
     "execution_count": 6,
     "metadata": {},
     "output_type": "execute_result"
    }
   ],
   "source": [
    "crud.add_scrape_event(data, fresh=True)"
   ]
  },
  {
   "cell_type": "code",
   "execution_count": 7,
   "id": "7fc1de09",
   "metadata": {},
   "outputs": [
    {
     "data": {
      "text/plain": [
       "{'asin': 'B07W2Z2ZS3', 'title': 'Garmin Fcośtam innego'}"
      ]
     },
     "execution_count": 7,
     "metadata": {},
     "output_type": "execute_result"
    }
   ],
   "source": [
    "data"
   ]
  },
  {
   "cell_type": "code",
   "execution_count": 8,
   "id": "9338e313",
   "metadata": {},
   "outputs": [
    {
     "name": "stdout",
     "output_type": "stream",
     "text": [
      "2022-04-18 08:24:53.643290\n"
     ]
    },
    {
     "data": {
      "text/plain": [
       "UUID('05dd6104-bef1-11ec-a38b-9801a7b33ff1')"
      ]
     },
     "execution_count": 8,
     "metadata": {},
     "output_type": "execute_result"
    }
   ],
   "source": [
    "product, event = crud.add_scrape_event(data, fresh=True)\n",
    "event[\"uuid\"]"
   ]
  },
  {
   "cell_type": "code",
   "execution_count": 9,
   "id": "e0cd8a99",
   "metadata": {},
   "outputs": [
    {
     "data": {
      "text/plain": [
       "4"
      ]
     },
     "execution_count": 9,
     "metadata": {},
     "output_type": "execute_result"
    }
   ],
   "source": [
    "len(models.Product.objects.all())"
   ]
  },
  {
   "cell_type": "code",
   "execution_count": 10,
   "id": "2fa90581",
   "metadata": {},
   "outputs": [
    {
     "data": {
      "text/plain": [
       "100"
      ]
     },
     "execution_count": 10,
     "metadata": {},
     "output_type": "execute_result"
    }
   ],
   "source": [
    "len(models.ProductScrapeEvent.objects.all())"
   ]
  },
  {
   "cell_type": "code",
   "execution_count": 11,
   "id": "28480166",
   "metadata": {},
   "outputs": [],
   "source": [
    "asin = None\n",
    "qs = models.Product.objects().all()\n",
    "for obj in qs:\n",
    "    asin = obj.asin"
   ]
  },
  {
   "cell_type": "code",
   "execution_count": 12,
   "id": "58a035d5",
   "metadata": {},
   "outputs": [
    {
     "data": {
      "text/plain": [
       "'testin123'"
      ]
     },
     "execution_count": 12,
     "metadata": {},
     "output_type": "execute_result"
    }
   ],
   "source": [
    "asin"
   ]
  },
  {
   "cell_type": "code",
   "execution_count": 13,
   "id": "ff923fed",
   "metadata": {},
   "outputs": [
    {
     "name": "stdout",
     "output_type": "stream",
     "text": [
      "Scrape events for testin123:\n",
      "SELECT \"uuid\", \"title\", \"price_str\", \"created_v2\" FROM scraper_app.product_scrape_event WHERE \"asin\" = %(0)s LIMIT 10000\n",
      "0 testin123 \t a9bd0c24-bdd0-11ec-bea8-9801a7b33ff1\n",
      "1 testin123 \t aa32c7de-bdd0-11ec-bea8-9801a7b33ff1\n",
      "2 testin123 \t a92bc76e-bdd0-11ec-bea8-9801a7b33ff1\n",
      "3 testin123 \t aaefcffa-bdd0-11ec-bea8-9801a7b33ff1\n",
      "4 testin123 \t a23182c8-bdd0-11ec-bea8-9801a7b33ff1\n",
      "5 testin123 \t e5c8ef44-bdd0-11ec-8c86-9801a7b33ff1\n",
      "6 testin123 \t aa97cf1c-bdd0-11ec-bea8-9801a7b33ff1\n"
     ]
    }
   ],
   "source": [
    "if asin is not None:\n",
    "    print(f\"Scrape events for {asin}:\")\n",
    "    qs = models.ProductScrapeEvent.objects.filter(asin=asin)\n",
    "    print(qs)\n",
    "    for i, obj in enumerate(qs):\n",
    "        print(i, obj.asin, \"\\t\", obj.uuid)"
   ]
  },
  {
   "cell_type": "code",
   "execution_count": 14,
   "id": "9292df4b",
   "metadata": {},
   "outputs": [],
   "source": [
    "session = db.get_session()"
   ]
  },
  {
   "cell_type": "code",
   "execution_count": 15,
   "id": "a078a6f7",
   "metadata": {},
   "outputs": [
    {
     "name": "stdout",
     "output_type": "stream",
     "text": [
      "{'asin': 'B07W2Z2ZS3', 'price_str': '-1', 'title': 'Garmin Fcośtam innego'}\n",
      "{'asin': 'B07W2Z2ZS1', 'price_str': None, 'title': 'Garmin FcoÅśtam'}\n",
      "{'asin': 'B07W2Z2ZS2', 'price_str': None, 'title': 'Garmin FcoÅśtam innego'}\n",
      "{'asin': 'testin123', 'price_str': '-1', 'title': 'hello world'}\n"
     ]
    }
   ],
   "source": [
    "qs = models.Product.objects().all()\n",
    "for row in session.execute(str(qs)):\n",
    "    print(row)"
   ]
  },
  {
   "cell_type": "code",
   "execution_count": 16,
   "id": "264d1978",
   "metadata": {},
   "outputs": [],
   "source": [
    "product = crud.create_entry({'asin': 'B07W2Z2ZS3', 'title': 'Zażółć Gęślą Jaźń'})\n",
    "asin = product.asin"
   ]
  },
  {
   "cell_type": "code",
   "execution_count": 17,
   "id": "81aa27da",
   "metadata": {},
   "outputs": [
    {
     "data": {
      "text/plain": [
       "'Zażółć Gęślą Jaźń'"
      ]
     },
     "execution_count": 17,
     "metadata": {},
     "output_type": "execute_result"
    }
   ],
   "source": [
    "product = models.Product.objects.filter(asin=asin)[0]\n",
    "product.title"
   ]
  },
  {
   "cell_type": "code",
   "execution_count": 18,
   "id": "a8b73c73",
   "metadata": {},
   "outputs": [
    {
     "data": {
      "text/plain": [
       "'SELECT * FROM scraper_app.product LIMIT 10000'"
      ]
     },
     "execution_count": 18,
     "metadata": {},
     "output_type": "execute_result"
    }
   ],
   "source": [
    "str(qs)"
   ]
  },
  {
   "cell_type": "code",
   "execution_count": 19,
   "id": "70aa08f2",
   "metadata": {},
   "outputs": [
    {
     "data": {
      "text/plain": [
       "['__call__',\n",
       " '__class__',\n",
       " '__deepcopy__',\n",
       " '__delattr__',\n",
       " '__dict__',\n",
       " '__dir__',\n",
       " '__doc__',\n",
       " '__eq__',\n",
       " '__format__',\n",
       " '__ge__',\n",
       " '__getattribute__',\n",
       " '__getitem__',\n",
       " '__gt__',\n",
       " '__hash__',\n",
       " '__init__',\n",
       " '__init_subclass__',\n",
       " '__iter__',\n",
       " '__le__',\n",
       " '__len__',\n",
       " '__lt__',\n",
       " '__module__',\n",
       " '__ne__',\n",
       " '__new__',\n",
       " '__reduce__',\n",
       " '__reduce_ex__',\n",
       " '__repr__',\n",
       " '__setattr__',\n",
       " '__sizeof__',\n",
       " '__str__',\n",
       " '__subclasshook__',\n",
       " '__unicode__',\n",
       " '__weakref__',\n",
       " '_allow_filtering',\n",
       " '_batch',\n",
       " '_conditional',\n",
       " '_connection',\n",
       " '_consistency',\n",
       " '_construct_with_deferred',\n",
       " '_count',\n",
       " '_defer_fields',\n",
       " '_deferred_values',\n",
       " '_distinct_fields',\n",
       " '_execute',\n",
       " '_execute_query',\n",
       " '_fetch_size',\n",
       " '_fill_result_cache',\n",
       " '_fill_result_cache_to_idx',\n",
       " '_flat_values_list',\n",
       " '_get_ordering_condition',\n",
       " '_get_result_constructor',\n",
       " '_if_exists',\n",
       " '_if_not_exists',\n",
       " '_limit',\n",
       " '_materialize_results',\n",
       " '_maybe_inject_deferred',\n",
       " '_only_fields',\n",
       " '_only_or_defer',\n",
       " '_order',\n",
       " '_parse_filter_arg',\n",
       " '_result_cache',\n",
       " '_result_generator',\n",
       " '_result_idx',\n",
       " '_select_fields',\n",
       " '_select_query',\n",
       " '_timeout',\n",
       " '_timestamp',\n",
       " '_ttl',\n",
       " '_validate_select_where',\n",
       " '_values_list',\n",
       " '_where',\n",
       " 'all',\n",
       " 'allow_filtering',\n",
       " 'batch',\n",
       " 'column_family_name',\n",
       " 'consistency',\n",
       " 'count',\n",
       " 'create',\n",
       " 'defer',\n",
       " 'delete',\n",
       " 'distinct',\n",
       " 'fetch_size',\n",
       " 'filter',\n",
       " 'first',\n",
       " 'get',\n",
       " 'if_exists',\n",
       " 'if_not_exists',\n",
       " 'iff',\n",
       " 'limit',\n",
       " 'model',\n",
       " 'only',\n",
       " 'order_by',\n",
       " 'timeout',\n",
       " 'timestamp',\n",
       " 'ttl',\n",
       " 'update',\n",
       " 'using',\n",
       " 'values_list']"
      ]
     },
     "execution_count": 19,
     "metadata": {},
     "output_type": "execute_result"
    }
   ],
   "source": [
    "dir(qs)"
   ]
  },
  {
   "cell_type": "code",
   "execution_count": 20,
   "id": "beaa5278",
   "metadata": {},
   "outputs": [
    {
     "name": "stdout",
     "output_type": "stream",
     "text": [
      "4\n"
     ]
    },
    {
     "data": {
      "text/plain": [
       "Product(asin='testin123', title='hello world', price_str='-1')"
      ]
     },
     "execution_count": 20,
     "metadata": {},
     "output_type": "execute_result"
    }
   ],
   "source": [
    "print(qs.count())\n",
    "qs[3]"
   ]
  },
  {
   "cell_type": "code",
   "execution_count": null,
   "id": "67609985",
   "metadata": {},
   "outputs": [],
   "source": []
  }
 ],
 "metadata": {
  "kernelspec": {
   "display_name": "Python 3 (ipykernel)",
   "language": "python",
   "name": "python3"
  },
  "language_info": {
   "codemirror_mode": {
    "name": "ipython",
    "version": 3
   },
   "file_extension": ".py",
   "mimetype": "text/x-python",
   "name": "python",
   "nbconvert_exporter": "python",
   "pygments_lexer": "ipython3",
   "version": "3.10.4"
  }
 },
 "nbformat": 4,
 "nbformat_minor": 5
}
